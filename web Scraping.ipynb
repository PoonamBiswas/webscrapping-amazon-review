{
 "cells": [
  {
   "cell_type": "code",
   "execution_count": 1,
   "id": "09b58610",
   "metadata": {},
   "outputs": [],
   "source": [
    "import bs4\n",
    "import urllib.request as url"
   ]
  },
  {
   "cell_type": "code",
   "execution_count": 2,
   "id": "1ee855f8",
   "metadata": {},
   "outputs": [],
   "source": [
    "path = \"https://www.amazon.in/Apple-iPhone-13-128GB-Pink/dp/B09G9FPGTN/ref=sr_1_4?crid=252IWMON3O6BH&keywords=iphone&qid=1698991616&sprefix=iphone%2B%2Caps%2C594&sr=8-4&th=1\""
   ]
  },
  {
   "cell_type": "code",
   "execution_count": 8,
   "id": "63f0d855",
   "metadata": {},
   "outputs": [],
   "source": [
    "response = url.urlopen(path)"
   ]
  },
  {
   "cell_type": "code",
   "execution_count": 9,
   "id": "aac691b9",
   "metadata": {},
   "outputs": [
    {
     "data": {
      "text/plain": [
       "<http.client.HTTPResponse at 0x20e46acbac0>"
      ]
     },
     "execution_count": 9,
     "metadata": {},
     "output_type": "execute_result"
    }
   ],
   "source": [
    "response"
   ]
  },
  {
   "cell_type": "code",
   "execution_count": 10,
   "id": "193e30e4",
   "metadata": {},
   "outputs": [],
   "source": [
    "page = bs4.BeautifulSoup(response)"
   ]
  },
  {
   "cell_type": "code",
   "execution_count": 11,
   "id": "80a45ba9",
   "metadata": {},
   "outputs": [
    {
     "data": {
      "text/plain": [
       "<a class=\"a-size-base a-link-normal review-title a-color-base review-title-content a-text-bold\" data-hook=\"review-title\" href=\"/gp/customer-reviews/R35BGB3PKZS1Z4?ASIN=B09G9FPGTN\"><i class=\"a-icon a-icon-star a-star-5 review-rating\" data-hook=\"review-star-rating\"><span class=\"a-icon-alt\">5.0 out of 5 stars</span></i><span class=\"a-letter-space\"></span>\n",
       "<span>Awesome</span>\n",
       "</a>"
      ]
     },
     "execution_count": 11,
     "metadata": {},
     "output_type": "execute_result"
    }
   ],
   "source": [
    "page.find('a', {'class' : 'review-title'})"
   ]
  },
  {
   "cell_type": "code",
   "execution_count": 12,
   "id": "cb787d79",
   "metadata": {},
   "outputs": [
    {
     "name": "stdout",
     "output_type": "stream",
     "text": [
      "5.0 out of 5 stars\n",
      "Awesome\n",
      "\n"
     ]
    }
   ],
   "source": [
    "print( page.find('a', {'class' : 'review-title'}).text)"
   ]
  },
  {
   "cell_type": "code",
   "execution_count": 13,
   "id": "593bc9ce",
   "metadata": {},
   "outputs": [],
   "source": [
    "reviews = page.find_all('a', {'class' : 'review-title'})"
   ]
  },
  {
   "cell_type": "code",
   "execution_count": 14,
   "id": "8be54e8a",
   "metadata": {},
   "outputs": [
    {
     "name": "stdout",
     "output_type": "stream",
     "text": [
      "5.0 out of 5 stars\n",
      "Awesome\n",
      "\n",
      "4.0 out of 5 stars\n",
      "Android to Apple Transition - Not a very smooth experience\n",
      "\n",
      "5.0 out of 5 stars\n",
      "Genuine iPhone\n",
      "\n",
      "4.0 out of 5 stars\n",
      "Brief buying experience including delivery experience\n",
      "\n",
      "5.0 out of 5 stars\n",
      "iPhone 13: A Month of Pure Excellence\n",
      "\n"
     ]
    }
   ],
   "source": [
    "for item in reviews:\n",
    "    print (item.text)"
   ]
  },
  {
   "cell_type": "code",
   "execution_count": null,
   "id": "0ac062c9",
   "metadata": {},
   "outputs": [],
   "source": []
  }
 ],
 "metadata": {
  "kernelspec": {
   "display_name": "Python 3 (ipykernel)",
   "language": "python",
   "name": "python3"
  },
  "language_info": {
   "codemirror_mode": {
    "name": "ipython",
    "version": 3
   },
   "file_extension": ".py",
   "mimetype": "text/x-python",
   "name": "python",
   "nbconvert_exporter": "python",
   "pygments_lexer": "ipython3",
   "version": "3.11.3"
  }
 },
 "nbformat": 4,
 "nbformat_minor": 5
}
